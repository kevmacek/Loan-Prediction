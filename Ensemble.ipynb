{
 "cells": [
  {
   "cell_type": "markdown",
   "id": "da5b5983",
   "metadata": {},
   "source": [
    "# Import Packages and Load Datasets:"
   ]
  },
  {
   "cell_type": "code",
   "execution_count": 1,
   "id": "01814de5",
   "metadata": {},
   "outputs": [],
   "source": [
    "import numpy as np\n",
    "import pandas as pd\n",
    "import seaborn as sns\n",
    "\n",
    "from sklearn.preprocessing import RobustScaler, MinMaxScaler, StandardScaler\n",
    "from sklearn.model_selection import StratifiedKFold, cross_val_score, train_test_split\n",
    "from sklearn.metrics import accuracy_score\n",
    "from sklearn.model_selection import GridSearchCV, RandomizedSearchCV\n",
    "\n",
    "from xgboost import XGBClassifier\n",
    "from catboost import CatBoostClassifier\n",
    "from lightgbm import LGBMClassifier\n",
    "from sklearn.ensemble import VotingClassifier, RandomForestClassifier\n",
    "\n",
    "from sklearn.linear_model import LogisticRegression"
   ]
  },
  {
   "cell_type": "code",
   "execution_count": 2,
   "id": "7f1b2010",
   "metadata": {},
   "outputs": [],
   "source": [
    "train_raw = pd.read_csv('train.csv')\n",
    "test_raw = pd.read_csv('test.csv')\n",
    "train = train_raw.copy()\n",
    "test = test_raw.copy()"
   ]
  },
  {
   "cell_type": "code",
   "execution_count": 3,
   "id": "e1ac9e70",
   "metadata": {},
   "outputs": [
    {
     "data": {
      "text/html": [
       "<div>\n",
       "<style scoped>\n",
       "    .dataframe tbody tr th:only-of-type {\n",
       "        vertical-align: middle;\n",
       "    }\n",
       "\n",
       "    .dataframe tbody tr th {\n",
       "        vertical-align: top;\n",
       "    }\n",
       "\n",
       "    .dataframe thead th {\n",
       "        text-align: right;\n",
       "    }\n",
       "</style>\n",
       "<table border=\"1\" class=\"dataframe\">\n",
       "  <thead>\n",
       "    <tr style=\"text-align: right;\">\n",
       "      <th></th>\n",
       "      <th>Loan_ID</th>\n",
       "      <th>Gender</th>\n",
       "      <th>Married</th>\n",
       "      <th>Dependents</th>\n",
       "      <th>Education</th>\n",
       "      <th>Self_Employed</th>\n",
       "      <th>ApplicantIncome</th>\n",
       "      <th>CoapplicantIncome</th>\n",
       "      <th>LoanAmount</th>\n",
       "      <th>Loan_Amount_Term</th>\n",
       "      <th>Credit_History</th>\n",
       "      <th>Property_Area</th>\n",
       "      <th>Loan_Status</th>\n",
       "    </tr>\n",
       "  </thead>\n",
       "  <tbody>\n",
       "    <tr>\n",
       "      <th>0</th>\n",
       "      <td>LP001002</td>\n",
       "      <td>Male</td>\n",
       "      <td>No</td>\n",
       "      <td>0</td>\n",
       "      <td>Graduate</td>\n",
       "      <td>No</td>\n",
       "      <td>5849</td>\n",
       "      <td>0.0</td>\n",
       "      <td>NaN</td>\n",
       "      <td>360.0</td>\n",
       "      <td>1.0</td>\n",
       "      <td>Urban</td>\n",
       "      <td>Y</td>\n",
       "    </tr>\n",
       "    <tr>\n",
       "      <th>1</th>\n",
       "      <td>LP001003</td>\n",
       "      <td>Male</td>\n",
       "      <td>Yes</td>\n",
       "      <td>1</td>\n",
       "      <td>Graduate</td>\n",
       "      <td>No</td>\n",
       "      <td>4583</td>\n",
       "      <td>1508.0</td>\n",
       "      <td>128.0</td>\n",
       "      <td>360.0</td>\n",
       "      <td>1.0</td>\n",
       "      <td>Rural</td>\n",
       "      <td>N</td>\n",
       "    </tr>\n",
       "    <tr>\n",
       "      <th>2</th>\n",
       "      <td>LP001005</td>\n",
       "      <td>Male</td>\n",
       "      <td>Yes</td>\n",
       "      <td>0</td>\n",
       "      <td>Graduate</td>\n",
       "      <td>Yes</td>\n",
       "      <td>3000</td>\n",
       "      <td>0.0</td>\n",
       "      <td>66.0</td>\n",
       "      <td>360.0</td>\n",
       "      <td>1.0</td>\n",
       "      <td>Urban</td>\n",
       "      <td>Y</td>\n",
       "    </tr>\n",
       "  </tbody>\n",
       "</table>\n",
       "</div>"
      ],
      "text/plain": [
       "    Loan_ID Gender Married Dependents Education Self_Employed  \\\n",
       "0  LP001002   Male      No          0  Graduate            No   \n",
       "1  LP001003   Male     Yes          1  Graduate            No   \n",
       "2  LP001005   Male     Yes          0  Graduate           Yes   \n",
       "\n",
       "   ApplicantIncome  CoapplicantIncome  LoanAmount  Loan_Amount_Term  \\\n",
       "0             5849                0.0         NaN             360.0   \n",
       "1             4583             1508.0       128.0             360.0   \n",
       "2             3000                0.0        66.0             360.0   \n",
       "\n",
       "   Credit_History Property_Area Loan_Status  \n",
       "0             1.0         Urban           Y  \n",
       "1             1.0         Rural           N  \n",
       "2             1.0         Urban           Y  "
      ]
     },
     "execution_count": 3,
     "metadata": {},
     "output_type": "execute_result"
    }
   ],
   "source": [
    "train.head(3)"
   ]
  },
  {
   "cell_type": "code",
   "execution_count": 4,
   "id": "90bc9d49",
   "metadata": {
    "scrolled": false
   },
   "outputs": [
    {
     "data": {
      "text/html": [
       "<div>\n",
       "<style scoped>\n",
       "    .dataframe tbody tr th:only-of-type {\n",
       "        vertical-align: middle;\n",
       "    }\n",
       "\n",
       "    .dataframe tbody tr th {\n",
       "        vertical-align: top;\n",
       "    }\n",
       "\n",
       "    .dataframe thead th {\n",
       "        text-align: right;\n",
       "    }\n",
       "</style>\n",
       "<table border=\"1\" class=\"dataframe\">\n",
       "  <thead>\n",
       "    <tr style=\"text-align: right;\">\n",
       "      <th></th>\n",
       "      <th>Loan_ID</th>\n",
       "      <th>Gender</th>\n",
       "      <th>Married</th>\n",
       "      <th>Dependents</th>\n",
       "      <th>Education</th>\n",
       "      <th>Self_Employed</th>\n",
       "      <th>ApplicantIncome</th>\n",
       "      <th>CoapplicantIncome</th>\n",
       "      <th>LoanAmount</th>\n",
       "      <th>Loan_Amount_Term</th>\n",
       "      <th>Credit_History</th>\n",
       "      <th>Property_Area</th>\n",
       "    </tr>\n",
       "  </thead>\n",
       "  <tbody>\n",
       "    <tr>\n",
       "      <th>0</th>\n",
       "      <td>LP001015</td>\n",
       "      <td>Male</td>\n",
       "      <td>Yes</td>\n",
       "      <td>0</td>\n",
       "      <td>Graduate</td>\n",
       "      <td>No</td>\n",
       "      <td>5720</td>\n",
       "      <td>0</td>\n",
       "      <td>110.0</td>\n",
       "      <td>360.0</td>\n",
       "      <td>1.0</td>\n",
       "      <td>Urban</td>\n",
       "    </tr>\n",
       "    <tr>\n",
       "      <th>1</th>\n",
       "      <td>LP001022</td>\n",
       "      <td>Male</td>\n",
       "      <td>Yes</td>\n",
       "      <td>1</td>\n",
       "      <td>Graduate</td>\n",
       "      <td>No</td>\n",
       "      <td>3076</td>\n",
       "      <td>1500</td>\n",
       "      <td>126.0</td>\n",
       "      <td>360.0</td>\n",
       "      <td>1.0</td>\n",
       "      <td>Urban</td>\n",
       "    </tr>\n",
       "    <tr>\n",
       "      <th>2</th>\n",
       "      <td>LP001031</td>\n",
       "      <td>Male</td>\n",
       "      <td>Yes</td>\n",
       "      <td>2</td>\n",
       "      <td>Graduate</td>\n",
       "      <td>No</td>\n",
       "      <td>5000</td>\n",
       "      <td>1800</td>\n",
       "      <td>208.0</td>\n",
       "      <td>360.0</td>\n",
       "      <td>1.0</td>\n",
       "      <td>Urban</td>\n",
       "    </tr>\n",
       "  </tbody>\n",
       "</table>\n",
       "</div>"
      ],
      "text/plain": [
       "    Loan_ID Gender Married Dependents Education Self_Employed  \\\n",
       "0  LP001015   Male     Yes          0  Graduate            No   \n",
       "1  LP001022   Male     Yes          1  Graduate            No   \n",
       "2  LP001031   Male     Yes          2  Graduate            No   \n",
       "\n",
       "   ApplicantIncome  CoapplicantIncome  LoanAmount  Loan_Amount_Term  \\\n",
       "0             5720                  0       110.0             360.0   \n",
       "1             3076               1500       126.0             360.0   \n",
       "2             5000               1800       208.0             360.0   \n",
       "\n",
       "   Credit_History Property_Area  \n",
       "0             1.0         Urban  \n",
       "1             1.0         Urban  \n",
       "2             1.0         Urban  "
      ]
     },
     "execution_count": 4,
     "metadata": {},
     "output_type": "execute_result"
    }
   ],
   "source": [
    "test.head(3)"
   ]
  },
  {
   "cell_type": "code",
   "execution_count": 5,
   "id": "85f08137",
   "metadata": {},
   "outputs": [],
   "source": [
    "train.drop_duplicates(keep='first', inplace=True)"
   ]
  },
  {
   "cell_type": "code",
   "execution_count": 6,
   "id": "b3ca073f",
   "metadata": {},
   "outputs": [],
   "source": [
    "train.drop('Loan_ID', axis=1, inplace=True)\n",
    "test.drop('Loan_ID', axis=1, inplace=True)"
   ]
  },
  {
   "cell_type": "markdown",
   "id": "5bc39a3b",
   "metadata": {},
   "source": [
    "# EDA"
   ]
  },
  {
   "cell_type": "code",
   "execution_count": 7,
   "id": "4a496075",
   "metadata": {},
   "outputs": [
    {
     "name": "stdout",
     "output_type": "stream",
     "text": [
      "<class 'pandas.core.frame.DataFrame'>\n",
      "Int64Index: 614 entries, 0 to 613\n",
      "Data columns (total 12 columns):\n",
      " #   Column             Non-Null Count  Dtype  \n",
      "---  ------             --------------  -----  \n",
      " 0   Gender             601 non-null    object \n",
      " 1   Married            611 non-null    object \n",
      " 2   Dependents         599 non-null    object \n",
      " 3   Education          614 non-null    object \n",
      " 4   Self_Employed      582 non-null    object \n",
      " 5   ApplicantIncome    614 non-null    int64  \n",
      " 6   CoapplicantIncome  614 non-null    float64\n",
      " 7   LoanAmount         592 non-null    float64\n",
      " 8   Loan_Amount_Term   600 non-null    float64\n",
      " 9   Credit_History     564 non-null    float64\n",
      " 10  Property_Area      614 non-null    object \n",
      " 11  Loan_Status        614 non-null    object \n",
      "dtypes: float64(4), int64(1), object(7)\n",
      "memory usage: 62.4+ KB\n"
     ]
    }
   ],
   "source": [
    "train.info()"
   ]
  },
  {
   "cell_type": "code",
   "execution_count": 8,
   "id": "20ded27e",
   "metadata": {},
   "outputs": [
    {
     "name": "stdout",
     "output_type": "stream",
     "text": [
      "Number of unique values in Gender are: 2\n",
      "Number of unique values in Married are: 2\n",
      "Number of unique values in Dependents are: 4\n",
      "Number of unique values in Education are: 2\n",
      "Number of unique values in Self_Employed are: 2\n",
      "Number of unique values in ApplicantIncome are: 505\n",
      "Number of unique values in CoapplicantIncome are: 287\n",
      "Number of unique values in LoanAmount are: 203\n",
      "Number of unique values in Loan_Amount_Term are: 10\n",
      "Number of unique values in Credit_History are: 2\n",
      "Number of unique values in Property_Area are: 3\n",
      "Number of unique values in Loan_Status are: 2\n"
     ]
    }
   ],
   "source": [
    "for col in train.columns:\n",
    "    print('Number of unique values in ' + col + ' are: ' +str(train[col].nunique()))"
   ]
  },
  {
   "cell_type": "code",
   "execution_count": 9,
   "id": "6c3d5657",
   "metadata": {},
   "outputs": [
    {
     "name": "stdout",
     "output_type": "stream",
     "text": [
      "Gender               13\n",
      "Married               3\n",
      "Dependents           15\n",
      "Education             0\n",
      "Self_Employed        32\n",
      "ApplicantIncome       0\n",
      "CoapplicantIncome     0\n",
      "LoanAmount           22\n",
      "Loan_Amount_Term     14\n",
      "Credit_History       50\n",
      "Property_Area         0\n",
      "Loan_Status           0\n",
      "dtype: int64\n",
      "=================\n",
      "Gender               11\n",
      "Married               0\n",
      "Dependents           10\n",
      "Education             0\n",
      "Self_Employed        23\n",
      "ApplicantIncome       0\n",
      "CoapplicantIncome     0\n",
      "LoanAmount            5\n",
      "Loan_Amount_Term      6\n",
      "Credit_History       29\n",
      "Property_Area         0\n",
      "dtype: int64\n",
      "=================\n"
     ]
    }
   ],
   "source": [
    "for item in [train, test]:\n",
    "    print(item.isnull().sum())\n",
    "    print('=================')"
   ]
  },
  {
   "cell_type": "code",
   "execution_count": 10,
   "id": "03b2236a",
   "metadata": {
    "scrolled": true
   },
   "outputs": [
    {
     "data": {
      "text/plain": [
       "<AxesSubplot:>"
      ]
     },
     "execution_count": 10,
     "metadata": {},
     "output_type": "execute_result"
    },
    {
     "data": {
      "image/png": "[encoded data removed]",
      "text/plain": [
       "<Figure size 432x288 with 2 Axes>"
      ]
     },
     "metadata": {
      "needs_background": "light"
     },
     "output_type": "display_data"
    }
   ],
   "source": [
    "sns.heatmap(train.corr(), annot=True)"
   ]
  },
  {
   "cell_type": "markdown",
   "id": "09d81dbf",
   "metadata": {},
   "source": [
    "# Fill Missing Values"
   ]
  },
  {
   "cell_type": "code",
   "execution_count": 11,
   "id": "f5abcec4",
   "metadata": {},
   "outputs": [],
   "source": [
    "# Categorical Features\n",
    "train['Gender'] = train['Gender'].ffill().bfill()\n",
    "test['Gender'] = test['Gender'].ffill().bfill()\n",
    "train['Married'].fillna('No', inplace=True)\n",
    "train['Dependents'].fillna('0', inplace=True)\n",
    "test['Dependents'].fillna('0', inplace=True)\n",
    "train['Self_Employed'].fillna('No', inplace=True)\n",
    "test['Self_Employed'].fillna('No', inplace=True)\n",
    "train['Credit_History'].replace({1.:'Yes', 0.:'No'}, inplace=True)\n",
    "test['Credit_History'].replace({1.:'Yes', 0.:'No'}, inplace=True)\n",
    "train['Credit_History'].fillna('No', inplace=True)\n",
    "test['Credit_History'].fillna('No', inplace=True)"
   ]
  },
  {
   "cell_type": "code",
   "execution_count": 12,
   "id": "952b95f7",
   "metadata": {},
   "outputs": [],
   "source": [
    "train['LoanAmount'].fillna(train['LoanAmount'].median(), inplace=True)\n",
    "test['LoanAmount'].fillna(test['LoanAmount'].median(), inplace=True)\n",
    "train['Loan_Amount_Term'].fillna(train['Loan_Amount_Term'].median(), inplace=True)\n",
    "test['Loan_Amount_Term'].fillna(test['Loan_Amount_Term'].median(), inplace=True)"
   ]
  },
  {
   "cell_type": "code",
   "execution_count": 13,
   "id": "fcf4e3d9",
   "metadata": {
    "scrolled": true
   },
   "outputs": [
    {
     "name": "stdout",
     "output_type": "stream",
     "text": [
      "<class 'pandas.core.frame.DataFrame'>\n",
      "Int64Index: 614 entries, 0 to 613\n",
      "Data columns (total 12 columns):\n",
      " #   Column             Non-Null Count  Dtype  \n",
      "---  ------             --------------  -----  \n",
      " 0   Gender             614 non-null    object \n",
      " 1   Married            614 non-null    object \n",
      " 2   Dependents         614 non-null    object \n",
      " 3   Education          614 non-null    object \n",
      " 4   Self_Employed      614 non-null    object \n",
      " 5   ApplicantIncome    614 non-null    int64  \n",
      " 6   CoapplicantIncome  614 non-null    float64\n",
      " 7   LoanAmount         614 non-null    float64\n",
      " 8   Loan_Amount_Term   614 non-null    float64\n",
      " 9   Credit_History     614 non-null    object \n",
      " 10  Property_Area      614 non-null    object \n",
      " 11  Loan_Status        614 non-null    object \n",
      "dtypes: float64(3), int64(1), object(8)\n",
      "memory usage: 62.4+ KB\n"
     ]
    }
   ],
   "source": [
    "train.info()"
   ]
  },
  {
   "cell_type": "markdown",
   "id": "41930896",
   "metadata": {},
   "source": [
    "# Split Data into Features and Target"
   ]
  },
  {
   "cell_type": "code",
   "execution_count": 14,
   "id": "3dcc0614",
   "metadata": {},
   "outputs": [],
   "source": [
    "X_train = train.drop('Loan_Status', axis=1)"
   ]
  },
  {
   "cell_type": "code",
   "execution_count": 15,
   "id": "6a7b38b2",
   "metadata": {},
   "outputs": [],
   "source": [
    "y_train = train['Loan_Status'].replace({'Y': 1, 'N': 0})"
   ]
  },
  {
   "cell_type": "code",
   "execution_count": 16,
   "id": "b3aa3b10",
   "metadata": {},
   "outputs": [],
   "source": [
    "X_test = test.copy()"
   ]
  },
  {
   "cell_type": "code",
   "execution_count": 17,
   "id": "2bf0bd2f",
   "metadata": {},
   "outputs": [
    {
     "name": "stdout",
     "output_type": "stream",
     "text": [
      "<class 'pandas.core.frame.DataFrame'>\n",
      "Int64Index: 614 entries, 0 to 613\n",
      "Data columns (total 11 columns):\n",
      " #   Column             Non-Null Count  Dtype  \n",
      "---  ------             --------------  -----  \n",
      " 0   Gender             614 non-null    object \n",
      " 1   Married            614 non-null    object \n",
      " 2   Dependents         614 non-null    object \n",
      " 3   Education          614 non-null    object \n",
      " 4   Self_Employed      614 non-null    object \n",
      " 5   ApplicantIncome    614 non-null    int64  \n",
      " 6   CoapplicantIncome  614 non-null    float64\n",
      " 7   LoanAmount         614 non-null    float64\n",
      " 8   Loan_Amount_Term   614 non-null    float64\n",
      " 9   Credit_History     614 non-null    object \n",
      " 10  Property_Area      614 non-null    object \n",
      "dtypes: float64(3), int64(1), object(7)\n",
      "memory usage: 57.6+ KB\n"
     ]
    }
   ],
   "source": [
    "X_train.info()"
   ]
  },
  {
   "cell_type": "code",
   "execution_count": 18,
   "id": "49b533f2",
   "metadata": {},
   "outputs": [],
   "source": [
    "X_train_cat = X_train.select_dtypes(include='object')\n",
    "X_train_num = X_train.select_dtypes(include=['int64','float64'])\n",
    "X_test_cat = X_test.select_dtypes(include='object')\n",
    "X_test_num = X_test.select_dtypes(include=['int64','float64'])"
   ]
  },
  {
   "cell_type": "code",
   "execution_count": 19,
   "id": "b1b5a03d",
   "metadata": {},
   "outputs": [
    {
     "name": "stdout",
     "output_type": "stream",
     "text": [
      "<class 'pandas.core.frame.DataFrame'>\n",
      "RangeIndex: 367 entries, 0 to 366\n",
      "Data columns (total 7 columns):\n",
      " #   Column          Non-Null Count  Dtype \n",
      "---  ------          --------------  ----- \n",
      " 0   Gender          367 non-null    object\n",
      " 1   Married         367 non-null    object\n",
      " 2   Dependents      367 non-null    object\n",
      " 3   Education       367 non-null    object\n",
      " 4   Self_Employed   367 non-null    object\n",
      " 5   Credit_History  367 non-null    object\n",
      " 6   Property_Area   367 non-null    object\n",
      "dtypes: object(7)\n",
      "memory usage: 20.2+ KB\n"
     ]
    }
   ],
   "source": [
    "X_test_cat.info()"
   ]
  },
  {
   "cell_type": "markdown",
   "id": "42df58d0",
   "metadata": {},
   "source": [
    "# Data Encoding: pd.get_dummies"
   ]
  },
  {
   "cell_type": "code",
   "execution_count": 20,
   "id": "3f7e257b",
   "metadata": {},
   "outputs": [],
   "source": [
    "def df_encode(encode_data):\n",
    "    encode_data = pd.get_dummies(encode_data)\n",
    "    return encode_data"
   ]
  },
  {
   "cell_type": "code",
   "execution_count": 21,
   "id": "cecd247e",
   "metadata": {},
   "outputs": [],
   "source": [
    "X_train_cat_encoded = df_encode(X_train_cat)\n",
    "X_test_cat_encoded = df_encode(X_test_cat)"
   ]
  },
  {
   "cell_type": "code",
   "execution_count": 22,
   "id": "bb93ee2a",
   "metadata": {},
   "outputs": [
    {
     "name": "stdout",
     "output_type": "stream",
     "text": [
      "<class 'pandas.core.frame.DataFrame'>\n",
      "Int64Index: 614 entries, 0 to 613\n",
      "Data columns (total 17 columns):\n",
      " #   Column                   Non-Null Count  Dtype\n",
      "---  ------                   --------------  -----\n",
      " 0   Gender_Female            614 non-null    uint8\n",
      " 1   Gender_Male              614 non-null    uint8\n",
      " 2   Married_No               614 non-null    uint8\n",
      " 3   Married_Yes              614 non-null    uint8\n",
      " 4   Dependents_0             614 non-null    uint8\n",
      " 5   Dependents_1             614 non-null    uint8\n",
      " 6   Dependents_2             614 non-null    uint8\n",
      " 7   Dependents_3+            614 non-null    uint8\n",
      " 8   Education_Graduate       614 non-null    uint8\n",
      " 9   Education_Not Graduate   614 non-null    uint8\n",
      " 10  Self_Employed_No         614 non-null    uint8\n",
      " 11  Self_Employed_Yes        614 non-null    uint8\n",
      " 12  Credit_History_No        614 non-null    uint8\n",
      " 13  Credit_History_Yes       614 non-null    uint8\n",
      " 14  Property_Area_Rural      614 non-null    uint8\n",
      " 15  Property_Area_Semiurban  614 non-null    uint8\n",
      " 16  Property_Area_Urban      614 non-null    uint8\n",
      "dtypes: uint8(17)\n",
      "memory usage: 15.0 KB\n"
     ]
    }
   ],
   "source": [
    "X_train_cat_encoded.info()"
   ]
  },
  {
   "cell_type": "markdown",
   "id": "5a1c1368",
   "metadata": {},
   "source": [
    "# Data Scaling with RobustScaler, MinMaxScaler, and StandardScaler"
   ]
  },
  {
   "cell_type": "code",
   "execution_count": 23,
   "id": "75ff5c78",
   "metadata": {},
   "outputs": [],
   "source": [
    "mms = MinMaxScaler()\n",
    "X_train_scaled = mms.fit_transform(X_train_num)\n",
    "X_test_scaled = mms.transform(X_test_num)"
   ]
  },
  {
   "cell_type": "code",
   "execution_count": 24,
   "id": "9f5304a5",
   "metadata": {},
   "outputs": [],
   "source": [
    "X_train_scaled = pd.DataFrame(X_train_scaled)\n",
    "X_test_scaled = pd.DataFrame(X_test_scaled)"
   ]
  },
  {
   "cell_type": "code",
   "execution_count": 25,
   "id": "52d5152e",
   "metadata": {},
   "outputs": [],
   "source": [
    "X_train = pd.concat([X_train_cat_encoded, X_train_scaled], axis=1)\n",
    "X_test = pd.concat([X_test_cat_encoded, X_test_scaled], axis=1)"
   ]
  },
  {
   "cell_type": "code",
   "execution_count": 26,
   "id": "bf79be15",
   "metadata": {},
   "outputs": [],
   "source": [
    "X_train.rename(columns={0:'ApplicantIncome', 1:'CoapplicantIncome', 2:'LoanAmount', 3:'Loan_Amount_Term'}, inplace=True)\n",
    "X_test.rename(columns={0:'ApplicantIncome', 1:'CoapplicantIncome', 2:'LoanAmount', 3:'Loan_Amount_Term'}, inplace=True)"
   ]
  },
  {
   "cell_type": "code",
   "execution_count": 27,
   "id": "0b0f4ea5",
   "metadata": {},
   "outputs": [],
   "source": [
    "kfold = StratifiedKFold(n_splits=5, shuffle=True, random_state=7)"
   ]
  },
  {
   "cell_type": "code",
   "execution_count": 28,
   "id": "c926fedf",
   "metadata": {
    "scrolled": false
   },
   "outputs": [
    {
     "data": {
      "text/plain": [
       "1    422\n",
       "0    192\n",
       "Name: Loan_Status, dtype: int64"
      ]
     },
     "execution_count": 28,
     "metadata": {},
     "output_type": "execute_result"
    }
   ],
   "source": [
    "y_train.value_counts()"
   ]
  },
  {
   "cell_type": "code",
   "execution_count": 29,
   "id": "3cb0e805",
   "metadata": {},
   "outputs": [
    {
     "data": {
      "text/plain": [
       "0.4549763033175355"
      ]
     },
     "execution_count": 29,
     "metadata": {},
     "output_type": "execute_result"
    }
   ],
   "source": [
    "# Value for scale_pos_weight\n",
    "192/422"
   ]
  },
  {
   "cell_type": "markdown",
   "id": "007f42c7",
   "metadata": {},
   "source": [
    "# Baseline Model and Hyperparameter Tuning"
   ]
  },
  {
   "cell_type": "code",
   "execution_count": 30,
   "id": "555b4213",
   "metadata": {},
   "outputs": [],
   "source": [
    "xgbc = XGBClassifier(scale_pos_weight=.45, booster='gbtree', objective='binary:logistic', max_depth=8, n_estimators=102, use_label_encoder=False, random_state=7)\n",
    "lgbmc = LGBMClassifier(scale_pos_weight=.45, objective='binary', learning_rate=.0079, n_estimators=85, random_state=7)\n",
    "catc = CatBoostClassifier(scale_pos_weight=.45, random_state=7)\n",
    "lrc = LogisticRegression(solver='liblinear', penalty='l2', random_state=7)\n",
    "rfc = RandomForestClassifier(n_estimators=64, criterion='entropy', max_depth=3, random_state=7)"
   ]
  },
  {
   "cell_type": "code",
   "execution_count": 31,
   "id": "db62b661",
   "metadata": {},
   "outputs": [],
   "source": [
    "def random_grid_search(model, params):\n",
    "    r_grid = RandomizedSearchCV(model, params, n_iter=50, cv=4, n_jobs=-1)\n",
    "    r_grid.fit(X_train, y_train)\n",
    "    best_params = r_grid.best_params_\n",
    "    print('Best params', best_params)\n",
    "    best_score = r_grid.best_score_\n",
    "    print('Best score:', best_score)"
   ]
  },
  {
   "cell_type": "code",
   "execution_count": 32,
   "id": "ee2e13f9",
   "metadata": {},
   "outputs": [],
   "source": [
    "def grid_search(model, params):\n",
    "    grid = GridSearchCV(model, params, cv=4, n_jobs=-1)\n",
    "    grid.fit(X_train, y_train)\n",
    "    best_params = grid.best_params_\n",
    "    print('Best params', best_params)\n",
    "    best_score = grid.best_score_\n",
    "    print('Best score:', best_score) "
   ]
  },
  {
   "cell_type": "code",
   "execution_count": 33,
   "id": "ec1be6ba",
   "metadata": {},
   "outputs": [],
   "source": [
    "#params={}"
   ]
  },
  {
   "cell_type": "code",
   "execution_count": 34,
   "id": "1836e079",
   "metadata": {
    "scrolled": true
   },
   "outputs": [],
   "source": [
    "#grid_search(rfc, params)"
   ]
  },
  {
   "cell_type": "code",
   "execution_count": 35,
   "id": "149bfe8c",
   "metadata": {},
   "outputs": [],
   "source": [
    "Xtrain, Xtest, ytrain, ytest = train_test_split(X_train, y_train, random_state=7)"
   ]
  },
  {
   "cell_type": "code",
   "execution_count": 36,
   "id": "0f922ccb",
   "metadata": {},
   "outputs": [],
   "source": [
    "def check(model):\n",
    "    model.fit(Xtrain, ytrain)\n",
    "    ypred = model.predict(Xtest)\n",
    "    print('Accuracy score:', accuracy_score(ypred, ytest))"
   ]
  },
  {
   "cell_type": "code",
   "execution_count": 37,
   "id": "3552f82b",
   "metadata": {},
   "outputs": [],
   "source": [
    "Classifiers = {'0.XGBoost' : XGBClassifier(scale_pos_weight=.45, booster='gbtree', objective='binary:logistic', \n",
    "                                           max_depth=8, n_estimators=102, use_label_encoder=False, random_state=7),\n",
    "               \n",
    "               '1.CatBoost' : CatBoostClassifier(scale_pos_weight=.45, random_state=7),\n",
    "               \n",
    "               '2.LightGBM' : LGBMClassifier(scale_pos_weight=.45, objective='binary',\n",
    "                                             learning_rate=.0079, n_estimators=85, random_state=7),\n",
    "               \n",
    "               '3.LogisticRegression' : LogisticRegression(solver='liblinear', penalty='l2', random_state=7),\n",
    "               \n",
    "               '4.RandomForest' : RandomForestClassifier(n_estimators=64, criterion='entropy', max_depth=3, random_state=7)\n",
    " }"
   ]
  },
  {
   "cell_type": "markdown",
   "id": "45d75fac",
   "metadata": {},
   "source": [
    "# Build Ensemble using Voting Classifier"
   ]
  },
  {
   "cell_type": "code",
   "execution_count": 44,
   "id": "70d30d3a",
   "metadata": {},
   "outputs": [],
   "source": [
    "ensemble_model = VotingClassifier(estimators=[('XGBoost_Best', list(Classifiers.values())[0]), \n",
    "                                              ('CatBoost_Best', list(Classifiers.values())[1]),\n",
    "                                              ('LightGBM_Best', list(Classifiers.values())[2]),\n",
    "                                              ('LogisticRegression_Best', list(Classifiers.values())[2]),\n",
    "                                              ('RandomForest_Best', list(Classifiers.values())[2]),\n",
    "                                             ], \n",
    "                                              voting='hard', n_jobs=-1)\n",
    "\n",
    "ensemble_model.fit(X_train, y_train) \n",
    "\n",
    "pred = ensemble_model.predict(X_test)"
   ]
  }
 ],
 "metadata": {
  "kernelspec": {
   "display_name": "Python 3 (ipykernel)",
   "language": "python",
   "name": "python3"
  },
  "language_info": {
   "codemirror_mode": {
    "name": "ipython",
    "version": 3
   },
   "file_extension": ".py",
   "mimetype": "text/x-python",
   "name": "python",
   "nbconvert_exporter": "python",
   "pygments_lexer": "ipython3",
   "version": "3.8.12"
  }
 },
 "nbformat": 4,
 "nbformat_minor": 5
}
